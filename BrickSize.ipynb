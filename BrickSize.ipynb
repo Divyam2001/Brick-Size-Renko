{
 "cells": [
  {
   "cell_type": "code",
   "execution_count": 1,
   "metadata": {},
   "outputs": [
    {
     "name": "stdout",
     "output_type": "stream",
     "text": [
      "136.54293387276786\n",
      "120.85800580210932\n",
      "45.51431129092262\n",
      "40.28600193403644\n"
     ]
    }
   ],
   "source": [
    "import datetime as dt\n",
    "import pandas as pd\n",
    "import pandas_datareader.data as web\n",
    "start = dt.datetime(2018,7,25)\n",
    "end = dt.datetime(2019,7,25)\n",
    "df = web.DataReader('^NSEI','yahoo',start,end)\n",
    "high = df[\"High\"]\n",
    "low = df[\"Low\"]\n",
    "a = high-low\n",
    "length = len(high)\n",
    "a = a.head(length-1)\n",
    "high1 = high.tail(length-1)\n",
    "low1 = low.tail(length-1)\n",
    "close = df[\"Close\"]\n",
    "close1 = close.head(length-1)\n",
    "b = abs(high1-close1)\n",
    "c = abs(low1-close1)\n",
    "tr = []\n",
    "for i in range(length-1):\n",
    "    list = [a[i], b[i], c[i]]\n",
    "    tr.append(max(list))\n",
    "    list = []\n",
    "atr = []\n",
    "atr1 = []\n",
    "for i in range(length-15):\n",
    "    sum = 0\n",
    "    sum1 = 0\n",
    "    for j in range(i, (14+i)):\n",
    "        sum = sum+tr[j]\n",
    "        sum1 = sum1+a[j]\n",
    "    atr.append((sum/14))\n",
    "    atr1.append((sum1/14))\n",
    "max1 = max(atr)\n",
    "min1 = min(atr)\n",
    "avg = (max1+min1)/2\n",
    "sum = 0\n",
    "for i in atr:\n",
    "    sum = sum+i\n",
    "avg1 = sum/len(atr)\n",
    "print(avg)\n",
    "print(avg1)\n",
    "bricksize = avg/3\n",
    "bricksize1 = avg1/3\n",
    "print(bricksize)\n",
    "print(bricksize1)"
   ]
  },
  {
   "cell_type": "code",
   "execution_count": 6,
   "metadata": {},
   "outputs": [],
   "source": []
  },
  {
   "cell_type": "code",
   "execution_count": 7,
   "metadata": {},
   "outputs": [],
   "source": []
  },
  {
   "cell_type": "code",
   "execution_count": 8,
   "metadata": {
    "scrolled": true
   },
   "outputs": [
    {
     "name": "stdout",
     "output_type": "stream",
     "text": [
      "33.11070033482143\n",
      "30.049531545698287\n",
      "11.036900111607144\n",
      "10.016510515232762\n"
     ]
    }
   ],
   "source": []
  },
  {
   "cell_type": "code",
   "execution_count": null,
   "metadata": {},
   "outputs": [],
   "source": []
  }
 ],
 "metadata": {
  "kernelspec": {
   "display_name": "Python 3",
   "language": "python",
   "name": "python3"
  },
  "language_info": {
   "codemirror_mode": {
    "name": "ipython",
    "version": 3
   },
   "file_extension": ".py",
   "mimetype": "text/x-python",
   "name": "python",
   "nbconvert_exporter": "python",
   "pygments_lexer": "ipython3",
   "version": "3.7.3"
  }
 },
 "nbformat": 4,
 "nbformat_minor": 2
}
